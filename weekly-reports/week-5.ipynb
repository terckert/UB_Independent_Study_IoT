{
 "cells": [
  {
   "attachments": {},
   "cell_type": "markdown",
   "metadata": {},
   "source": [
    "What I accomplished this week...\n",
    "---\n",
    "\n",
    "### Cross-Polination\n",
    "This week was about rewriting my drivers using the HAL library to rewrite drivers. As part of my Assistive and Adaptive Team's plan to try and control a television remotely, we decided to try and implement a single source remote control. This would involve placing a peripheral that would need to be controlled remotely, so I am going to work on writing portable drivers to control the peripheral.\n",
    "\n",
    "\n",
    "### Lessons\n",
    "__AHB vs APB__\n",
    "- Advanced High-Performance Bus (AHB) \n",
    "  - Takes one clock cycle to access peripherals\n",
    "- Advanced Peripheral Bus (APB)\n",
    "  - Takes a minimum of 2 clock cycles to access peripherals\n",
    "\n",
    "### Microcontroller Clock Sources\n",
    "__On-Chip RC Oscillator__\n",
    "- On-Chip Resister Capacitor Oscillator\n",
    "- Least precise\n",
    "\n",
    "**Externally Connected Crystal**\n",
    "- Most precise\n",
    "\n",
    "**Phase Locked Loop (PLL)**\n",
    "- Programmable\n",
    "\n",
    "### Helpful links I found this week\n",
    "[STM32 Understanding GPIO SETTINGS](https://electronics.stackexchange.com/questions/156930/stm32-understanding-gpio-settings)\n",
    "- Good explanation of the concept of push/pull, open drain, etc. and why you use them.\n",
    "- Good explanation of why you would set a pin to a low slew rate over a high one (reduce noise)\n",
    "\n",
    "[Setting up STM32 Test Cases - Platform IO](https://docs.platformio.org/en/latest/tutorials/ststm32/stm32cube_debugging_unit_testing.html#tutorial-stm32cube-debugging-unit-testing)\n",
    "- Good demo of how to set up and configure a UART using HAL\n",
    "- Shows how to set up test cases to confirm behavior\n",
    "  \n",
    "[Differences between the system clock and the processor clock](https://cs.stackexchange.com/questions/32149/what-are-system-clock-and-cpu-clock-and-what-are-their-functions)\n",
    "- The system clock syncs the circuit board components so everything acts at the same time\n",
    "- The processor clock could be the same, faster, or slower than the system clock\n",
    "- The difference is because not every instruction the processor handles requires a peripheral to be updated\n",
    "\n",
    "[Instructions for binding a serial monitor over bluetooth](https://alberand.com/hc-05-linux.html)\n",
    "- Linux is hard. Below are the steps to bind the monitor\n",
    "1. hcitool scan\n",
    "  - Finds the bluetooth device ID\n",
    "2. sudo rfcomm bind rfcomm0 98:DA:60:04:F6:D1\n",
    "  - This is the hardware address of my module\n",
    "  - Bind port for screen app\n",
    "3. sudo screen /dev/rfcomm0 9600\n",
    "  - Don't know why sudo is required\n",
    "  - You're connected when the blinking red light on the bluetooth module is solid red\n",
    "4. sudo rfcomm release 0\n",
    "  - Releases the port back into the wild\n",
    "\n",
    "[Details on overwriting printf/scanf](https://electronics.stackexchange.com/questions/206113/how-do-i-use-the-printf-function-on-stm32) <br>\n",
    "[More details](https://www.openstm32.org/forumthread1055)\n",
    "- Simplify console communication\n"
   ]
  }
 ],
 "metadata": {
  "kernelspec": {
   "display_name": "Python 3",
   "language": "python",
   "name": "python3"
  },
  "language_info": {
   "name": "python",
   "version": "3.10.6"
  },
  "orig_nbformat": 4,
  "vscode": {
   "interpreter": {
    "hash": "916dbcbb3f70747c44a77c7bcd40155683ae19c65e1c03b4aa3499c5328201f1"
   }
  }
 },
 "nbformat": 4,
 "nbformat_minor": 2
}
