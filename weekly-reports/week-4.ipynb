{
 "cells": [
  {
   "attachments": {},
   "cell_type": "markdown",
   "metadata": {},
   "source": [
    "What I accomplished this week\n",
    "---\n",
    "\n",
    "This is really an amalgamation of the last 2 weeks. The project itself is coming along really well and I want to update the progress that I made on this project.\n",
    "\n",
    "## Completed portions\n",
    "### Serial Console\n",
    "I have coded a serial console which allows me to print debug information to the connected PC. This console can also be used to transmit configuration commands to the bluetooth module, letting me change it's name, pin number, baudrate, etc.\n",
    "\n",
    "### Bluetooth UART\n",
    "I have completed a bluetooth UART module that allows me to communicate over bluetooth and with the device itself. \n",
    "\n",
    "### Circular data buffer\n",
    "The circular data buffer allows me to store characters in a simulated infinite data stream. \n",
    "\n",
    "\n",
    "## Still to go\n",
    "### Packet structure\n",
    "A structure that can be extended as more commands get added to it.\n",
    "\n",
    "```\n",
    "+------------+----------------+-------------+---------------+-----------------------+\n",
    "| Enumerator | Current Packet | Last Packet | Relavant Data | Transmission End Flag |\n",
    "+------------+----------------+-------------+---------------+-----------------------+\n",
    "```\n",
    "\n",
    "#### Enumerator\n",
    "Says what kind of packet it is. For example:\n",
    "\n",
    "```cpp\n",
    "enum packet_type {\n",
    "    EMPTY = 0, AT, LIGHT\n",
    "}\n",
    "```\n",
    "\n",
    "#### Current/Last Packet\n",
    "Used when you have to transmit multiple packets to get all of the data transmitted. Ex. \n",
    "\n",
    "Current Packet: 1, Last Packet: 1 - There is only one packet in this transmission\n",
    "Current Packet: 2, Last Packet: 3 - We are currently on packet 2 of 3. When packet 3 is received \n",
    "\n",
    "#### Relevant Data\n",
    "A union that encapsulates how the data should be received. Each packet type would have its own unique structure. By using a union, we can cast the data structure to the relevant type.\n",
    "\n",
    "#### Transmission End Flag\n",
    "This signals the end of the transmission. We want to keep filling the relevant data buffer until the end transmission flag is received. It allows the receiver to know when a packet is finished. Probably more relevant to the microntroller who will be reading each character over the UART, then for the PC which has socket structures in placed to read up to PACKET_SIZE bytes from a buffer.\n",
    "\n",
    "### Packet Buffer\n",
    "Much like the circular buffer, this data structure is an array to a number of packets. This will make it easier to parse th data since the receiver can flag when packets are ready to be parsed."
   ]
  }
 ],
 "metadata": {
  "kernelspec": {
   "display_name": "Python 3",
   "language": "python",
   "name": "python3"
  },
  "language_info": {
   "codemirror_mode": {
    "name": "ipython",
    "version": 3
   },
   "file_extension": ".py",
   "mimetype": "text/x-python",
   "name": "python",
   "nbconvert_exporter": "python",
   "pygments_lexer": "ipython3",
   "version": "3.10.6"
  },
  "orig_nbformat": 4,
  "vscode": {
   "interpreter": {
    "hash": "916dbcbb3f70747c44a77c7bcd40155683ae19c65e1c03b4aa3499c5328201f1"
   }
  }
 },
 "nbformat": 4,
 "nbformat_minor": 2
}
