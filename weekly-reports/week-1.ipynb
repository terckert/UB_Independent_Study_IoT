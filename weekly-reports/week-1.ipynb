{
 "cells": [
  {
   "attachments": {},
   "cell_type": "markdown",
   "metadata": {},
   "source": [
    "# What I have accomplished this week\n",
    "I purchased the following course from embeddedexpert.io: [Practical Low Cost Bare-Metal Bluetooth Development](https://go.embeddedexpert.io/sales-page-456031951663944352920?button=)\n",
    "\n",
    "This should give me the foundation and guidance that I need to get a grasp on how embedded controllers work with bluetooth. I ordered two development boards (because I can and I told my wife it was necessary :D) so that I could guarantee that any driver's I wrote would work the same for both boards, only one would need Master permissions and the other slave. My goal is to have the two boards communicate with each other, even if it's simple communication.\n",
    "\n",
    "I hope to have the materials delivered and organized by next week, there doesn't seem to be a wait on any of the products as far as I can tell. This means that within three weeks time I should be able to at least send information from my PC or my phone to one of the boards and be able to receive feedback from the board itself. This middleman stage is mostly so that I can confirm communication is working and that the commands that I want to develop are received proper at the slave device.\n"
   ]
  },
  {
   "attachments": {},
   "cell_type": "markdown",
   "metadata": {},
   "source": [
    "# Bill of Materials\n",
    "| Quantity | Item | Price | Link |\n",
    "| :-: | --- | --- | --- |\n",
    "| 1 | Breadboards and jumpers kit | 12.99 | https://www.amazon.com/gp/product/B08Y59P6D1/ref=ox_sc_act_title_1?smid=A2RFXKS6GNXFWP&psc=1 | \n",
    "| 1 | Kit of 5 mini-LCD displays | 13.88 | https://www.amazon.com/gp/product/B085WCRS7C/ref=ox_sc_act_title_2?smid=A38CU2XC1RY0BO&psc=1 | \n",
    "| 1 | Bluetooth HC-06 module with Master/Slave mode capability | 9.99 | https://www.amazon.com/gp/product/B01FCQZ8VW/ref=ox_sc_act_title_3?smid=AFLYC5O31PGVX&psc=1 | \n",
    "| 1 | Pack of 2 Bluetooth HC-06 modules with Slave mode only | 15.49 | https://www.amazon.com/gp/product/B07VL6ZH67/ref=ox_sc_act_title_4?smid=A30QSGOJR8LMXA&psc=1 | \n",
    "| 1 | Pack of 3 EP8266 WiFi modules | 16.39 | https://www.amazon.com/gp/product/B081CSJV2V/ref=ox_sc_act_title_5?smid=A30QSGOJR8LMXA&psc=1 | \n",
    "| 2 | STMF411RE microcontroller development boards | 25.25 | https://www.amazon.com/gp/product/B07JYF8RRB/ref=ox_sc_act_title_6?smid=AKPEXCT43QN17&psc=1 | "
   ]
  }
 ],
 "metadata": {
  "kernelspec": {
   "display_name": "Python 3",
   "language": "python",
   "name": "python3"
  },
  "language_info": {
   "name": "python",
   "version": "3.10.6 (main, Nov 14 2022, 16:10:14) [GCC 11.3.0]"
  },
  "orig_nbformat": 4,
  "vscode": {
   "interpreter": {
    "hash": "916dbcbb3f70747c44a77c7bcd40155683ae19c65e1c03b4aa3499c5328201f1"
   }
  }
 },
 "nbformat": 4,
 "nbformat_minor": 2
}
