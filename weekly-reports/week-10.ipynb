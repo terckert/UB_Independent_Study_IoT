{
 "cells": [
  {
   "attachments": {},
   "cell_type": "markdown",
   "metadata": {},
   "source": [
    "What I accomplished this week...\n",
    "---\n",
    "\n",
    "I started the project again this week after a hiatus due to the pressures from other classes. \n",
    "\n",
    "### Project progress\n",
    "A lot of the basic functionality was completed previous as far as the board was concerned. This week, I adding the logic necessary to make the game of \"Lights Out\" using the matrix LED I created previously.\n",
    "\n",
    "On top of that I created a GUI using the Eel Python package. This package is best described as \"Electron-lite\". It allowed me to create the GUI using HTML, CSS, and JS with a Python backend to handle OS level requests that the browser sandbox restricts.\n",
    "\n",
    "![Screenshot of UI the only time I won the game.](./gui-screenshot.png)\n",
    "\n",
    "The above screenshot is the only time I was able to successfully complete the game. The goal is to start from a random board and turn on all the lights. I may have to switch it to a 5x5 grid in the future because most examples use the *odd* x *odd* style grid. \n",
    "\n",
    "Click on a light in the GUI will swap it from on to off and vice versa, as well as the toggle the lights directly north, east, south, and west.\n",
    "\n",
    "### Next steps\n",
    "I need to clean up my github and consolidate the files as is. A better name would be helpful. I am going to call this project done because I want to move onto using my web modules.\n"
   ]
  }
 ],
 "metadata": {
  "language_info": {
   "name": "python"
  },
  "orig_nbformat": 4
 },
 "nbformat": 4,
 "nbformat_minor": 2
}
